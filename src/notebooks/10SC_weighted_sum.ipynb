{
 "cells": [
  {
   "cell_type": "code",
   "execution_count": 1,
   "metadata": {},
   "outputs": [],
   "source": [
    "#Imports\n",
    "from utils_sc_weightedsum import *"
   ]
  },
  {
   "cell_type": "markdown",
   "metadata": {},
   "source": [
    "### SC: Weighted Sum with pre-treatment weights (L1 Norm, Correlation, Time Shifting)\n",
    "- For multiple Buildings\n",
    "- Weights: L1 Norm, Correlation (Pearson product-moment correlation coefficients)\n",
    "- Time Shifting\n",
    "- Ensembling (Bagging, Boosting)"
   ]
  },
  {
   "cell_type": "code",
   "execution_count": null,
   "metadata": {},
   "outputs": [
    {
     "name": "stdout",
     "output_type": "stream",
     "text": [
      "Building 0\n",
      "Set parameter Username\n",
      "Set parameter LicenseID to value 2593432\n",
      "Academic license - for non-commercial use only - expires 2025-11-30\n"
     ]
    },
    {
     "ename": "KeyboardInterrupt",
     "evalue": "",
     "output_type": "error",
     "traceback": [
      "\u001b[1;31m---------------------------------------------------------------------------\u001b[0m",
      "\u001b[1;31mKeyboardInterrupt\u001b[0m                         Traceback (most recent call last)",
      "Cell \u001b[1;32mIn[2], line 14\u001b[0m\n\u001b[0;32m      1\u001b[0m CONFIG \u001b[38;5;241m=\u001b[39m {\n\u001b[0;32m      2\u001b[0m         \u001b[38;5;124m'\u001b[39m\u001b[38;5;124mdata_path\u001b[39m\u001b[38;5;124m'\u001b[39m: \u001b[38;5;124m'\u001b[39m\u001b[38;5;124m../../data/Energy_dataset_bessScaled.csv\u001b[39m\u001b[38;5;124m'\u001b[39m,\n\u001b[0;32m      3\u001b[0m         \u001b[38;5;124m'\u001b[39m\u001b[38;5;124mbuildings_range\u001b[39m\u001b[38;5;124m'\u001b[39m: \u001b[38;5;28mrange\u001b[39m(\u001b[38;5;241m2\u001b[39m),  \u001b[38;5;66;03m# Process buildings 1 and 2\u001b[39;00m\n\u001b[1;32m   (...)\u001b[0m\n\u001b[0;32m     10\u001b[0m         \u001b[38;5;124m'\u001b[39m\u001b[38;5;124mbagging\u001b[39m\u001b[38;5;124m'\u001b[39m: \u001b[38;5;28;01mFalse\u001b[39;00m\n\u001b[0;32m     11\u001b[0m     }\n\u001b[0;32m     13\u001b[0m sc \u001b[38;5;241m=\u001b[39m SyntheticControl()\n\u001b[1;32m---> 14\u001b[0m sc_values, sc_metrics, sc_aggregated_stats \u001b[38;5;241m=\u001b[39m \u001b[43msc\u001b[49m\u001b[38;5;241;43m.\u001b[39;49m\u001b[43mrun_sc_weighted_sum_multiple_buildings\u001b[49m\u001b[43m(\u001b[49m\u001b[43mCONFIG\u001b[49m\u001b[43m)\u001b[49m\n",
      "File \u001b[1;32mc:\\Users\\rs1044\\Documents\\GitHub\\Advancing-Flexibility-in-Energy-Grids\\src\\notebooks\\utils_sc_weightedsum.py:305\u001b[0m, in \u001b[0;36mSyntheticControl.run_sc_weighted_sum_multiple_buildings\u001b[1;34m(cls, config)\u001b[0m\n\u001b[0;32m    303\u001b[0m     sc\u001b[38;5;241m.\u001b[39msc_weighted_sum_bagging_pipeline(n_bootstrap\u001b[38;5;241m=\u001b[39m\u001b[38;5;241m3\u001b[39m, sample_fraction\u001b[38;5;241m=\u001b[39m\u001b[38;5;241m0.8\u001b[39m)\n\u001b[0;32m    304\u001b[0m \u001b[38;5;28;01melse\u001b[39;00m:\n\u001b[1;32m--> 305\u001b[0m     \u001b[43msc\u001b[49m\u001b[38;5;241;43m.\u001b[39;49m\u001b[43msc_weighted_sum_pipeline\u001b[49m\u001b[43m(\u001b[49m\u001b[43m)\u001b[49m\n\u001b[0;32m    306\u001b[0m sc\u001b[38;5;241m.\u001b[39mcalculate_metrics()\n\u001b[0;32m    308\u001b[0m \u001b[38;5;66;03m# Store results\u001b[39;00m\n",
      "File \u001b[1;32mc:\\Users\\rs1044\\Documents\\GitHub\\Advancing-Flexibility-in-Energy-Grids\\src\\notebooks\\utils_sc_weightedsum.py:119\u001b[0m, in \u001b[0;36mSyntheticControl.sc_weighted_sum_pipeline\u001b[1;34m(self)\u001b[0m\n\u001b[0;32m    116\u001b[0m \u001b[38;5;250m\u001b[39m\u001b[38;5;124;03m\"\"\"Execute synthetic control pipeline.\"\"\"\u001b[39;00m\n\u001b[0;32m    118\u001b[0m \u001b[38;5;28;01mif\u001b[39;00m \u001b[38;5;28mself\u001b[39m\u001b[38;5;241m.\u001b[39mweights \u001b[38;5;129;01mis\u001b[39;00m \u001b[38;5;28;01mNone\u001b[39;00m:\n\u001b[1;32m--> 119\u001b[0m     \u001b[38;5;28;43mself\u001b[39;49m\u001b[38;5;241;43m.\u001b[39;49m\u001b[43mcalculate_optimal_weights\u001b[49m\u001b[43m(\u001b[49m\u001b[43m)\u001b[49m\n\u001b[0;32m    121\u001b[0m \u001b[38;5;28mself\u001b[39m\u001b[38;5;241m.\u001b[39mY_synthetic_pre \u001b[38;5;241m=\u001b[39m np\u001b[38;5;241m.\u001b[39mdot(\u001b[38;5;28mself\u001b[39m\u001b[38;5;241m.\u001b[39mweights, \u001b[38;5;28mself\u001b[39m\u001b[38;5;241m.\u001b[39mY0_pre)\n\u001b[0;32m    122\u001b[0m \u001b[38;5;28mself\u001b[39m\u001b[38;5;241m.\u001b[39mY_synthetic_post \u001b[38;5;241m=\u001b[39m np\u001b[38;5;241m.\u001b[39mdot(\u001b[38;5;28mself\u001b[39m\u001b[38;5;241m.\u001b[39mweights, \u001b[38;5;28mself\u001b[39m\u001b[38;5;241m.\u001b[39mY0_post)\n",
      "File \u001b[1;32mc:\\Users\\rs1044\\Documents\\GitHub\\Advancing-Flexibility-in-Energy-Grids\\src\\notebooks\\utils_sc_weightedsum.py:103\u001b[0m, in \u001b[0;36mSyntheticControl.calculate_optimal_weights\u001b[1;34m(self)\u001b[0m\n\u001b[0;32m    100\u001b[0m model\u001b[38;5;241m.\u001b[39maddConstr(gp\u001b[38;5;241m.\u001b[39mquicksum(W[j] \u001b[38;5;28;01mfor\u001b[39;00m j \u001b[38;5;129;01min\u001b[39;00m \u001b[38;5;28mrange\u001b[39m(J)) \u001b[38;5;241m==\u001b[39m \u001b[38;5;241m1\u001b[39m)\n\u001b[0;32m    102\u001b[0m \u001b[38;5;28;01mfor\u001b[39;00m t \u001b[38;5;129;01min\u001b[39;00m \u001b[38;5;28mrange\u001b[39m(T0):\n\u001b[1;32m--> 103\u001b[0m     discrepancy \u001b[38;5;241m=\u001b[39m \u001b[38;5;28mself\u001b[39m\u001b[38;5;241m.\u001b[39mY1_pre[t] \u001b[38;5;241m-\u001b[39m \u001b[43mgp\u001b[49m\u001b[38;5;241;43m.\u001b[39;49m\u001b[43mquicksum\u001b[49m\u001b[43m(\u001b[49m\u001b[43mW\u001b[49m\u001b[43m[\u001b[49m\u001b[43mj\u001b[49m\u001b[43m]\u001b[49m\u001b[43m \u001b[49m\u001b[38;5;241;43m*\u001b[39;49m\u001b[43m \u001b[49m\u001b[38;5;28;43mself\u001b[39;49m\u001b[38;5;241;43m.\u001b[39;49m\u001b[43mY0_pre\u001b[49m\u001b[43m[\u001b[49m\u001b[43mj\u001b[49m\u001b[43m,\u001b[49m\u001b[43m \u001b[49m\u001b[43mt\u001b[49m\u001b[43m]\u001b[49m\u001b[43m \u001b[49m\u001b[38;5;28;43;01mfor\u001b[39;49;00m\u001b[43m \u001b[49m\u001b[43mj\u001b[49m\u001b[43m \u001b[49m\u001b[38;5;129;43;01min\u001b[39;49;00m\u001b[43m \u001b[49m\u001b[38;5;28;43mrange\u001b[39;49m\u001b[43m(\u001b[49m\u001b[43mJ\u001b[49m\u001b[43m)\u001b[49m\u001b[43m)\u001b[49m\n\u001b[0;32m    104\u001b[0m     model\u001b[38;5;241m.\u001b[39maddConstr(discrepancy \u001b[38;5;241m==\u001b[39m e_plus[t] \u001b[38;5;241m-\u001b[39m e_minus[t])\n\u001b[0;32m    106\u001b[0m obj \u001b[38;5;241m=\u001b[39m gp\u001b[38;5;241m.\u001b[39mquicksum(e_plus[t] \u001b[38;5;241m+\u001b[39m e_minus[t] \u001b[38;5;28;01mfor\u001b[39;00m t \u001b[38;5;129;01min\u001b[39;00m \u001b[38;5;28mrange\u001b[39m(T0))\n",
      "File \u001b[1;32msrc\\\\gurobipy\\\\gurobi.pxi:3842\u001b[0m, in \u001b[0;36mgurobipy.quicksum\u001b[1;34m()\u001b[0m\n",
      "File \u001b[1;32mc:\\Users\\rs1044\\Documents\\GitHub\\Advancing-Flexibility-in-Energy-Grids\\src\\notebooks\\utils_sc_weightedsum.py:103\u001b[0m, in \u001b[0;36m<genexpr>\u001b[1;34m(.0)\u001b[0m\n\u001b[0;32m    100\u001b[0m model\u001b[38;5;241m.\u001b[39maddConstr(gp\u001b[38;5;241m.\u001b[39mquicksum(W[j] \u001b[38;5;28;01mfor\u001b[39;00m j \u001b[38;5;129;01min\u001b[39;00m \u001b[38;5;28mrange\u001b[39m(J)) \u001b[38;5;241m==\u001b[39m \u001b[38;5;241m1\u001b[39m)\n\u001b[0;32m    102\u001b[0m \u001b[38;5;28;01mfor\u001b[39;00m t \u001b[38;5;129;01min\u001b[39;00m \u001b[38;5;28mrange\u001b[39m(T0):\n\u001b[1;32m--> 103\u001b[0m     discrepancy \u001b[38;5;241m=\u001b[39m \u001b[38;5;28mself\u001b[39m\u001b[38;5;241m.\u001b[39mY1_pre[t] \u001b[38;5;241m-\u001b[39m gp\u001b[38;5;241m.\u001b[39mquicksum(W[j] \u001b[38;5;241m*\u001b[39m \u001b[38;5;28mself\u001b[39m\u001b[38;5;241m.\u001b[39mY0_pre[j, t] \u001b[38;5;28;01mfor\u001b[39;00m j \u001b[38;5;129;01min\u001b[39;00m \u001b[38;5;28mrange\u001b[39m(J))\n\u001b[0;32m    104\u001b[0m     model\u001b[38;5;241m.\u001b[39maddConstr(discrepancy \u001b[38;5;241m==\u001b[39m e_plus[t] \u001b[38;5;241m-\u001b[39m e_minus[t])\n\u001b[0;32m    106\u001b[0m obj \u001b[38;5;241m=\u001b[39m gp\u001b[38;5;241m.\u001b[39mquicksum(e_plus[t] \u001b[38;5;241m+\u001b[39m e_minus[t] \u001b[38;5;28;01mfor\u001b[39;00m t \u001b[38;5;129;01min\u001b[39;00m \u001b[38;5;28mrange\u001b[39m(T0))\n",
      "\u001b[1;31mKeyboardInterrupt\u001b[0m: "
     ]
    }
   ],
   "source": [
    "#Weighted Sum - Shift 0\n",
    "CONFIG = {\n",
    "        'data_path': '../../data/Energy_dataset_bessScaled.csv',\n",
    "        'buildings_range': range(50),  # Process buildings 1 and 2\n",
    "        'shift_range': 0,\n",
    "        'weight_type': \"optimal\",\n",
    "        'pre_split': 0.7,\n",
    "        'save_path': f\"results/sc/sc_weighted_sum/shift_0_nobagging/\",\n",
    "        'visualize': False,\n",
    "        'periods_to_plot': 3*48,\n",
    "        'bagging': False\n",
    "    }\n",
    "    \n",
    "sc = SyntheticControl()\n",
    "sc_values, sc_metrics, sc_aggregated_stats = sc.run_sc_weighted_sum_multiple_buildings(CONFIG)"
   ]
  },
  {
   "cell_type": "code",
   "execution_count": null,
   "metadata": {},
   "outputs": [],
   "source": [
    "#Weighted Sum - Shift 1\n",
    "CONFIG = {\n",
    "        'data_path': '../../data/Energy_dataset_bessScaled.csv',\n",
    "        'buildings_range': range(50),  # Process buildings 1 and 2\n",
    "        'shift_range': 1,\n",
    "        'weight_type': \"optimal\",\n",
    "        'pre_split': 0.7,\n",
    "        'save_path': f\"results/sc/sc_weighted_sum/shift_1_nobagging/\",\n",
    "        'visualize': False,\n",
    "        'periods_to_plot': 3*48,\n",
    "        'bagging': False\n",
    "    }\n",
    "    \n",
    "sc = SyntheticControl()\n",
    "sc_values, sc_metrics, sc_aggregated_stats = sc.run_sc_weighted_sum_multiple_buildings(CONFIG)"
   ]
  },
  {
   "cell_type": "code",
   "execution_count": null,
   "metadata": {},
   "outputs": [],
   "source": [
    "#Weighted Sum - Shift 3\n",
    "CONFIG = {\n",
    "        'data_path': '../../data/Energy_dataset_bessScaled.csv',\n",
    "        'buildings_range': range(50),  # Process buildings 1 and 2\n",
    "        'shift_range': 3,\n",
    "        'weight_type': \"optimal\",\n",
    "        'pre_split': 0.7,\n",
    "        'save_path': f\"results/sc/sc_weighted_sum/shift_3_nobagging/\",\n",
    "        'visualize': False,\n",
    "        'periods_to_plot': 3*48,\n",
    "        'bagging': False\n",
    "    }\n",
    "    \n",
    "sc = SyntheticControl()\n",
    "sc_values, sc_metrics, sc_aggregated_stats = sc.run_sc_weighted_sum_multiple_buildings(CONFIG)"
   ]
  },
  {
   "cell_type": "code",
   "execution_count": null,
   "metadata": {},
   "outputs": [],
   "source": [
    "#Weighted Sum - Shift 0 - Bagging\n",
    "CONFIG = {\n",
    "        'data_path': '../../data/Energy_dataset_bessScaled.csv',\n",
    "        'buildings_range': range(50),  # Process buildings 1 and 2\n",
    "        'shift_range': 0, \n",
    "        'weight_type': \"optimal\",\n",
    "        'pre_split': 0.7,\n",
    "        'save_path': f\"results/sc/sc_weighted_sum/shift_0_bagging/\",\n",
    "        'visualize': False,\n",
    "        'periods_to_plot': 3*48,\n",
    "        'bagging': True\n",
    "    }\n",
    "    \n",
    "sc = SyntheticControl()\n",
    "sc_values, sc_metrics, sc_aggregated_stats = sc.run_sc_weighted_sum_multiple_buildings(CONFIG)"
   ]
  }
 ],
 "metadata": {
  "kernelspec": {
   "display_name": ".venv",
   "language": "python",
   "name": "python3"
  },
  "language_info": {
   "codemirror_mode": {
    "name": "ipython",
    "version": 3
   },
   "file_extension": ".py",
   "mimetype": "text/x-python",
   "name": "python",
   "nbconvert_exporter": "python",
   "pygments_lexer": "ipython3",
   "version": "3.10.0"
  }
 },
 "nbformat": 4,
 "nbformat_minor": 2
}
